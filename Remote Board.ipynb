{
 "cells": [
  {
   "cell_type": "code",
   "execution_count": 1,
   "id": "1228dec9-2986-4b3c-abc2-696e1fcad19b",
   "metadata": {},
   "outputs": [],
   "source": [
    "import cv2\n",
    "import time\n",
    "import numpy as np\n",
    "import os\n",
    "import HandTrackingModule as htm"
   ]
  },
  {
   "cell_type": "code",
   "execution_count": 2,
   "id": "da4c5f9e-c4fc-4722-86e4-d55d5e5cf4a7",
   "metadata": {},
   "outputs": [
    {
     "name": "stdout",
     "output_type": "stream",
     "text": [
      "5\n"
     ]
    }
   ],
   "source": [
    "images=[\"images/red1.png\",\"images/blue.png\",\"images/green.png\",\"images/yellow.png\",\"images/black.png\"]\n",
    "\n",
    "for index,image in enumerate(images):\n",
    "    image=cv2.imread(image)\n",
    "    image=cv2.resize(image,(800,600))\n",
    "    images[index]=image\n",
    "print(len(images))"
   ]
  },
  {
   "cell_type": "code",
   "execution_count": 3,
   "id": "a9c825e6-39e1-4f93-8aa9-cf196a1c47a7",
   "metadata": {},
   "outputs": [
    {
     "data": {
      "text/plain": [
       "-1"
      ]
     },
     "execution_count": 3,
     "metadata": {},
     "output_type": "execute_result"
    }
   ],
   "source": [
    "#import board image\n",
    "Board=cv2.imread(\"Board.png\")\n",
    "Board=cv2.resize(Board,(800,600))\n",
    "cv2.rectangle(Board, (745,25), (800, 155), (210,210,210), cv2.FILLED)\n",
    "cv2.imshow(\"Board\",Board)\n",
    "cv2.waitKey(0)"
   ]
  },
  {
   "cell_type": "code",
   "execution_count": 4,
   "id": "934edf3b-ffc5-4459-b011-66959ece8b4d",
   "metadata": {},
   "outputs": [],
   "source": [
    "def red():\n",
    "    \n",
    "    cv2.rectangle(Board, (25,25), (112, 152), (255,255,255),7)\n",
    "    cv2.rectangle(Board, (169,25), (257, 152), (255,0,0), cv2.FILLED)\n",
    "    cv2.rectangle(Board, (312,25), (402, 152), (0,255,0), cv2.FILLED)\n",
    "    cv2.rectangle(Board, (459,25), (547, 152), (0,255,255), cv2.FILLED)\n",
    "    cv2.rectangle(Board, (604,25), (692, 152), (0,0,0), cv2.FILLED)\n",
    "def blue():\n",
    "    \n",
    "    cv2.rectangle(Board, (25,25), (112, 152), (0,0,255), cv2.FILLED)\n",
    "    cv2.rectangle(Board, (169,25), (257, 152), (255,255,255), 7)\n",
    "    cv2.rectangle(Board, (312,25), (402, 152), (0,255,0), cv2.FILLED)\n",
    "    cv2.rectangle(Board, (459,25), (547, 152), (0,255,255), cv2.FILLED)\n",
    "    cv2.rectangle(Board, (604,25), (692, 152), (0,0,0), cv2.FILLED)\n",
    "def green():\n",
    "    \n",
    "    cv2.rectangle(Board, (25,25), (112, 152), (0,0,255), cv2.FILLED)\n",
    "    cv2.rectangle(Board, (169,25), (257, 152), (255,0,0), cv2.FILLED)\n",
    "    cv2.rectangle(Board, (312,25), (402, 152), (255,255,255), 7)\n",
    "    cv2.rectangle(Board, (459,25), (547, 152), (0,255,255), cv2.FILLED)\n",
    "    cv2.rectangle(Board, (604,25), (692, 152), (0,0,0), cv2.FILLED)\n",
    "def yellow():\n",
    "    \n",
    "    cv2.rectangle(Board, (25,25), (112, 152), (0,0,255), cv2.FILLED)\n",
    "    cv2.rectangle(Board, (169,25), (257, 152), (255,0,0), cv2.FILLED)\n",
    "    cv2.rectangle(Board, (312,25), (402, 152), (0,255,0), cv2.FILLED)\n",
    "    cv2.rectangle(Board, (459,25), (547, 152), (255,255,255), 7)\n",
    "    cv2.rectangle(Board, (604,25), (692, 152), (0,0,0), cv2.FILLED)\n",
    "def black():\n",
    "    \n",
    "    cv2.rectangle(Board, (25,25), (112, 152), (0,0,255), cv2.FILLED)\n",
    "    cv2.rectangle(Board, (169,25), (257, 152), (255,0,0), cv2.FILLED)\n",
    "    cv2.rectangle(Board, (312,25), (402, 152), (0,255,0), cv2.FILLED)\n",
    "    cv2.rectangle(Board, (459,25), (547, 152), (0,255,255), cv2.FILLED)\n",
    "    cv2.rectangle(Board, (604,25), (692, 152), (255,255,255), 7)\n",
    "\n",
    "\n",
    "     "
   ]
  },
  {
   "cell_type": "code",
   "execution_count": 5,
   "id": "a9b5cf72-8aa4-4514-b94c-121c6d1b7d69",
   "metadata": {},
   "outputs": [],
   "source": [
    "cap=cv2.VideoCapture(0)\n",
    "detector=htm.handDetector(detectionCon=int(0.85))\n",
    "while True:\n",
    "    _,frame=cap.read()\n",
    "    frame=cv2.flip(frame,1)\n",
    "    frame=cv2.resize(frame,(800,440))\n",
    "    red()\n",
    "    Board[160:600,0:800]=frame       \n",
    "    cv2.imshow(\"Board\",Board)\n",
    "    k=cv2.waitKey(1)\n",
    "    if k==27:break\n",
    "cap.release()\n",
    "cv2.destroyAllWindows()"
   ]
  },
  {
   "cell_type": "code",
   "execution_count": 6,
   "id": "8d15b704-65f2-427e-80a1-2d4e95b68590",
   "metadata": {},
   "outputs": [],
   "source": [
    "color=(0,0,255)\n",
    "thikness=30\n",
    "xp=yp=0\n",
    "\n",
    "image=np.zeros((440,800,3),np.uint8)\n",
    "cap=cv2.VideoCapture(0)\n",
    "detector=htm.handDetector(detectionCon=int(0.85))\n",
    "while True:\n",
    "    _,frame=cap.read()\n",
    "    frame=cv2.flip(frame,1)\n",
    "    #first:width    second:height\n",
    "    frame=cv2.resize(frame,(800,440))\n",
    "    frame=detector.findHands(frame)\n",
    "    lmlist=detector.findPosition(frame,draw=False)\n",
    "    #print(len(lmlist))\n",
    "    if len(lmlist)>0:\n",
    "        #print(\"There is Hand\")\n",
    "        x1,y1=lmlist[8][1:]\n",
    "        x2,y2=lmlist[12][1:]\n",
    "        up_fingers=detector.fingersUp()\n",
    "        #print(up_fingers)\n",
    "        if up_fingers[1] and up_fingers[2]:\n",
    "            \n",
    "            #print(\"Selection Mode\")\n",
    "            if y1<50:\n",
    "                #we are in the header to choose eraser or pens color\n",
    "                if 25<x1<112:\n",
    "                    red()\n",
    "                    color=(0,0,255)\n",
    "                    thikness=30\n",
    "                elif 169<x1<257 :\n",
    "                    blue()\n",
    "                    color=(255,0,0)\n",
    "                    thikness=30\n",
    "                    \n",
    "                elif 312<x1<402 :\n",
    "                    green()\n",
    "                    color=(0,255,0)\n",
    "                    thikness=30\n",
    "                    \n",
    "                elif 459<x1<547:\n",
    "                    yellow()\n",
    "                    color=(0,255,255)\n",
    "                    thikness=30\n",
    "                    \n",
    "                elif 604<x1<692 :\n",
    "                    black()\n",
    "                    color=(0,0,0)\n",
    "                    thikness=30\n",
    "                \n",
    "             \n",
    "            cv2.rectangle(frame, (x1, y1 - 25), (x2, y2 + 25), color, cv2.FILLED)\n",
    "        if up_fingers[1] and up_fingers[2]==False:\n",
    "            #print(\"Drawing Mode\")\n",
    "            cv2.circle(frame, (x1, y1), 30,color, cv2.FILLED)\n",
    "            if xp==0 and yp==0:\n",
    "                xp,yp=x1,y1\n",
    "            cv2.line(frame,(xp,yp),(x1,y1),color,thikness)\n",
    "            cv2.line(image,(xp,yp),(x1,y1),color,thikness)\n",
    "            xp,yp=x1,y1\n",
    "    #imgGray = cv2.cvtColor(image, cv2.COLOR_BGR2GRAY)\n",
    "    #_, imgInv = cv2.threshold(imgGray, 50, 255, cv2.THRESH_BINARY_INV)\n",
    "    #imgInv = cv2.cvtColor(imgInv,cv2.COLOR_GRAY2BGR)\n",
    "    #img = cv2.bitwise_and(frame,imgInv)\n",
    "    #img = cv2.bitwise_or(img,image)\n",
    "    \n",
    "    Board[160:600,0:800]=frame     \n",
    "    #frame=cv2.addWeighted(frame,0.5,image,0.5,0)\n",
    "    cv2.imshow(\"Board\",Board)\n",
    "    cv2.imshow(\"image\",image)\n",
    "    #cv2.imshow(\"Inv\", imgInv)\n",
    "    k=cv2.waitKey(1)\n",
    "    if k==27:break\n",
    "cap.release()\n",
    "cv2.destroyAllWindows()\n",
    "    "
   ]
  },
  {
   "cell_type": "code",
   "execution_count": null,
   "id": "6601d545-1ae9-46bc-92b2-7ec11896ea7b",
   "metadata": {},
   "outputs": [],
   "source": []
  },
  {
   "cell_type": "code",
   "execution_count": null,
   "id": "54ce33d5-1bba-40a7-8be3-f4940a55a9ad",
   "metadata": {},
   "outputs": [],
   "source": []
  }
 ],
 "metadata": {
  "kernelspec": {
   "display_name": "Python 3 (ipykernel)",
   "language": "python",
   "name": "python3"
  },
  "language_info": {
   "codemirror_mode": {
    "name": "ipython",
    "version": 3
   },
   "file_extension": ".py",
   "mimetype": "text/x-python",
   "name": "python",
   "nbconvert_exporter": "python",
   "pygments_lexer": "ipython3",
   "version": "3.11.9"
  }
 },
 "nbformat": 4,
 "nbformat_minor": 5
}
